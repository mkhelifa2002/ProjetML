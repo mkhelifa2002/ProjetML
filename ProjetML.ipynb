{
 "cells": [
  {
   "cell_type": "code",
   "execution_count": 302,
   "id": "8c51f917-00b9-47b2-8fbe-566a9754bc9d",
   "metadata": {},
   "outputs": [
    {
     "name": "stdout",
     "output_type": "stream",
     "text": [
      "Requirement already satisfied: opencv-python in /opt/conda/lib/python3.12/site-packages (4.11.0.86)\n",
      "Collecting opencv-python-headless\n",
      "  Downloading opencv_python_headless-4.11.0.86-cp37-abi3-manylinux_2_17_x86_64.manylinux2014_x86_64.whl.metadata (20 kB)\n",
      "Requirement already satisfied: numpy>=1.21.2 in /opt/conda/lib/python3.12/site-packages (from opencv-python) (2.2.1)\n",
      "Downloading opencv_python_headless-4.11.0.86-cp37-abi3-manylinux_2_17_x86_64.manylinux2014_x86_64.whl (50.0 MB)\n",
      "\u001b[2K   \u001b[90m━━━━━━━━━━━━━━━━━━━━━━━━━━━━━━━━━━━━━━━━\u001b[0m \u001b[32m50.0/50.0 MB\u001b[0m \u001b[31m63.6 MB/s\u001b[0m eta \u001b[36m0:00:00\u001b[0m00:01\u001b[0m00:01\u001b[0m\n",
      "Installing collected packages: opencv-python-headless\n",
      "Successfully installed opencv-python-headless-4.11.0.86\n"
     ]
    }
   ],
   "source": [
    "! pip install opencv-python opencv-python-headless\n",
    "\n",
    "import numpy as np\n",
    "from PIL import Image\n",
    "import scipy\n",
    "import cv2"
   ]
  },
  {
   "cell_type": "code",
   "execution_count": 43,
   "id": "fb56f52f-b76d-4d7a-9858-7955bf36faa6",
   "metadata": {},
   "outputs": [],
   "source": [
    "def normalize(p):\n",
    "    return p / np.sum(p)"
   ]
  },
  {
   "cell_type": "code",
   "execution_count": 44,
   "id": "3f80f081-d807-4743-8ab6-6f29a054d95b",
   "metadata": {},
   "outputs": [],
   "source": [
    "def dist(x, y, alpha):\n",
    "    return ((x[0]-y[0])**alpha + (x[1]-y[1])**alpha)"
   ]
  },
  {
   "cell_type": "code",
   "execution_count": 45,
   "id": "50405bfd-2f56-4ab5-aa13-8d0698adcc0c",
   "metadata": {},
   "outputs": [],
   "source": [
    "def Cost_matrix(N, alpha):\n",
    "    C = np.zeros((N*N, N*N))\n",
    "    for j1 in range(N):\n",
    "        for j2 in range(N):\n",
    "            column = []\n",
    "            for i in range(N):\n",
    "                column.append(dist([0, j1], [i, j2], alpha))\n",
    "            C[N*j1:N*j1+N, N*j2:N*j2+N] = scipy.linalg.toeplitz(np.array(column))\n",
    "    return(C)"
   ]
  },
  {
   "cell_type": "code",
   "execution_count": 405,
   "id": "c893be49-8e48-4171-a680-95c07daa1d2a",
   "metadata": {},
   "outputs": [],
   "source": [
    "def multiply(K, X): # Takes in argument a matrix of cost K and a vector X\n",
    "    n = int(np.sqrt(len(K[0])))\n",
    "    Y = np.zeros(len(K[0]))\n",
    "    for j in range(n):\n",
    "        for i in range(n):\n",
    "            Y[n*j:n*j+n] += scipy.linalg.matmul_toeplitz(K[n*i:n*i+n, n*j:n*j+n][0], X[n*j:n*j+n])\n",
    "    return Y"
   ]
  },
  {
   "cell_type": "code",
   "execution_count": 479,
   "id": "3a5b515d-ac91-42a8-92aa-9845d9e9a462",
   "metadata": {},
   "outputs": [],
   "source": [
    "def divide(P, Q):\n",
    "    Q_new = Q.copy()\n",
    "    P_new = P.copy()\n",
    "    for i in np.argwhere(Q==0):\n",
    "        if P[i]==0:\n",
    "            Q_new[i]=1\n",
    "            P_new[i]=1\n",
    "    return(P/Q_new)"
   ]
  },
  {
   "cell_type": "code",
   "execution_count": 480,
   "id": "67dcc18e-3086-4370-8631-dec684a4a276",
   "metadata": {},
   "outputs": [],
   "source": [
    "def inner_log(X, Y):\n",
    "    X_new = X.copy()\n",
    "    for i in np.argwhere(np.abs(X)==0):\n",
    "        if Y[i]==0:\n",
    "            X_new[i]=1          \n",
    "    return np.inner(np.log(X_new), Y)"
   ]
  },
  {
   "cell_type": "code",
   "execution_count": 481,
   "id": "04663985-9aab-4e10-b3a2-8dc1946f8815",
   "metadata": {},
   "outputs": [],
   "source": [
    "def sinkhorn_differentiate(Lambda, C, p, q, Gamma, L):\n",
    "\n",
    "    S = len(p)\n",
    "    N = len(p[0])\n",
    "    K = np.exp(-C/Gamma)\n",
    "    Phi = np.ones((L+1, N, S))\n",
    "    b = np.ones((L+1, N, S))\n",
    "    w = np.zeros(S)\n",
    "    r = np.zeros((N, S))\n",
    "    Lambda0 = normalize(np.exp(np.copy(Lambda)))\n",
    "    \n",
    "    for i in range(1, L+1):\n",
    "        P = np.ones(N)\n",
    "\n",
    "        for j in range(S):\n",
    "            if i==2:\n",
    "                print(b[i-1, :, j], p[j])\n",
    "            Phi[i, :, j] = multiply(K, divide(p[j], multiply(K, b[i-1, :, j])))\n",
    "            P *= (np.abs(Phi[i, :, j]))**Lambda0[j]\n",
    "            \n",
    "        for j in range(S):\n",
    "            b[i, :, j] = divide(P, Phi[i, :, j])\n",
    "\n",
    "    g = 2*(P - q) * P\n",
    "    \n",
    "    for i in range(1, L+1):\n",
    "\n",
    "        for j in range(S):\n",
    "            w[j] += inner_log(Phi[L-i+1, :, j], g)\n",
    "            r[:, j] = - multiply(K, (multiply(K, divide((Lambda0[j] * g - r[:, j]), Phi[L-i+1, :, j])) * divide(p[j], multiply(K, b[L-i, :, j]) ** 2))) * b[L-i, :, j]\n",
    "       \n",
    "        g = np.zeros(N)\n",
    "        for j in range(S):    \n",
    "            g += r[:, j]\n",
    "\n",
    "    return P, w"
   ]
  },
  {
   "cell_type": "code",
   "execution_count": 482,
   "id": "8afdc39a-fd71-443a-aee1-97beea78e9ff",
   "metadata": {},
   "outputs": [],
   "source": [
    "def histogram_colors(img_path):\n",
    "    img = cv2.imread(img_path)\n",
    "    ycrcb_img = cv2.cvtColor(img, cv2.COLOR_BGR2YCrCb)\n",
    "    Y, Cr, Cb = cv2.split(ycrcb_img)\n",
    "    hist_Y = cv2.calcHist([Y], [0], None, [128], [0, 256])\n",
    "    hist_CrCb = cv2.calcHist([Cr, Cb], [0, 1], None, [128, 128], [0, 256, 0, 256])\n",
    "    return hist_CrCb.reshape(-1)"
   ]
  },
  {
   "cell_type": "code",
   "execution_count": 483,
   "id": "e3427816-4b8b-4fdf-b2e0-3247ae444f02",
   "metadata": {},
   "outputs": [],
   "source": [
    "hist1 = histogram_colors('Images/ML_HOGGAR/HOGGAR_data1.jpg')\n",
    "hist2 = histogram_colors('Images/ML_HOGGAR/HOGGAR_data2.jpg')\n",
    "hist3 = histogram_colors('Images/ML_HOGGAR/HOGGAR_data3.jpg')\n",
    "hists = np.array([hist1, hist2, hist3])\n",
    "\n",
    "q = histogram_colors('Images/ML_HOGGAR/HOGGAR_obj.jpg')"
   ]
  },
  {
   "cell_type": "code",
   "execution_count": 484,
   "id": "abae2c9e-3b8e-409e-b4c3-e28143ca6d8f",
   "metadata": {},
   "outputs": [
    {
     "name": "stdout",
     "output_type": "stream",
     "text": [
      "[0. 0. 0. ... 0. 0. 0.] [0. 0. 0. ... 0. 0. 0.]\n"
     ]
    },
    {
     "name": "stderr",
     "output_type": "stream",
     "text": [
      "/tmp/ipykernel_888/3589161652.py:8: RuntimeWarning: divide by zero encountered in divide\n",
      "  return(P/Q_new)\n"
     ]
    },
    {
     "name": "stdout",
     "output_type": "stream",
     "text": [
      "[0. 0. 0. ... 0. 0. 0.] [0. 0. 0. ... 0. 0. 0.]\n",
      "[0. 0. 0. ... 0. 0. 0.] [0. 0. 0. ... 0. 0. 0.]\n"
     ]
    },
    {
     "name": "stderr",
     "output_type": "stream",
     "text": [
      "/tmp/ipykernel_888/2826033818.py:6: RuntimeWarning: invalid value encountered in log\n",
      "  return np.inner(np.log(X_new), Y)\n",
      "/tmp/ipykernel_888/2826033818.py:6: RuntimeWarning: divide by zero encountered in log\n",
      "  return np.inner(np.log(X_new), Y)\n"
     ]
    },
    {
     "data": {
      "text/plain": [
       "(array([0., 0., 0., ..., 0., 0., 0.], shape=(16384,)), array([nan, nan, nan]))"
      ]
     },
     "execution_count": 484,
     "metadata": {},
     "output_type": "execute_result"
    }
   ],
   "source": [
    "N = len(hists[0])\n",
    "C = Cost_matrix(int(np.sqrt(N)), 2)\n",
    "Lambdas = np.array([1 for i in range(len(hists))])\n",
    "sinkhorn_differentiate(Lambdas, C, hists, q, 1, 10)"
   ]
  },
  {
   "cell_type": "code",
   "execution_count": 427,
   "id": "fd384327-6f77-4a09-aa5a-de6e824f290e",
   "metadata": {},
   "outputs": [
    {
     "name": "stdout",
     "output_type": "stream",
     "text": [
      "[0.33333333 0.33333333 0.33333333]\n"
     ]
    }
   ],
   "source": [
    "Lambda0 = normalize(np.exp(np.copy(Lambdas)))\n",
    "print(Lambda0)"
   ]
  },
  {
   "cell_type": "code",
   "execution_count": 266,
   "id": "8a5e3f4d-8f77-4e90-b9ff-f8db6fc6017b",
   "metadata": {},
   "outputs": [],
   "source": [
    "p = hists\n",
    "LambdaINI = np.array([0.3, 0.4, 0.3])\n",
    "resH = scipy.optimize.minimize(sinkhorn_differentiate, LambdaINI, method='BFGS', args=(p, q, 10, 10), jac=True)"
   ]
  },
  {
   "cell_type": "code",
   "execution_count": 267,
   "id": "7f2fe692-8170-47b9-9b69-5e1aa37c2387",
   "metadata": {},
   "outputs": [
    {
     "name": "stdout",
     "output_type": "stream",
     "text": [
      "  message: Desired error not necessarily achieved due to precision loss.\n",
      "  success: False\n",
      "   status: 2\n",
      "      fun: 0.002414900630069163\n",
      "        x: [ 1.383e+00 -1.119e+00 -6.910e-01]\n",
      "      nit: 19\n",
      "      jac: [ 1.032e-04 -3.148e-04  1.027e-04]\n",
      " hess_inv: [[ 1.399e+03  2.494e+01  5.439e+03]\n",
      "            [ 2.494e+01  1.346e+02  5.489e+02]\n",
      "            [ 5.439e+03  5.489e+02  2.269e+04]]\n",
      "     nfev: 80\n",
      "     njev: 69\n"
     ]
    }
   ],
   "source": [
    "print(resH)"
   ]
  },
  {
   "cell_type": "code",
   "execution_count": 268,
   "id": "89fc13ea-2d68-424e-9008-a9f588aba863",
   "metadata": {},
   "outputs": [
    {
     "name": "stdout",
     "output_type": "stream",
     "text": [
      "[0.82804178 0.06784739 0.10411083]\n"
     ]
    }
   ],
   "source": [
    "LambdaH = normalize(np.exp(resH.x))\n",
    "print(LambdaH)"
   ]
  },
  {
   "cell_type": "code",
   "execution_count": 295,
   "id": "74e50741-0831-4964-9b7c-d398510e8a00",
   "metadata": {},
   "outputs": [],
   "source": [
    "def sinkhorn(Lambda, hists, input_image, Gamma, L, epsilon):\n",
    "\n",
    "    N = len(hists[0])\n",
    "    C = Cost_matrix(int(np.sqrt(N)), 2)\n",
    "    q, w = sinkhorn_differentiate(Lambda, hists, input_image, Gamma, L)\n",
    "    K = np.exp(-C/Gamma)\n",
    "    \n",
    "    u = np.ones(len(C[0]))\n",
    "    v = np.ones(len(C[1]))\n",
    "    T = np.diag(u.flatten()) @ K @ np.diag(v.flatten())\n",
    "    t_norm = np.trace(T.T @ T)\n",
    "    \n",
    "    while True:\n",
    "        u = input_image/multiply(K, v) # avoid divided by zero\n",
    "        v = q/multiply(K, u)\n",
    "        T = np.diag(u.flatten()) @ K @ np.diag(v.flatten())\n",
    "        if abs((np.trace(T.T @ T) - t_norm)/t_norm) < epsilon:\n",
    "            break\n",
    "        t_norm = np.trace(T.T @ T)\n",
    "    return T, np.trace(C.T @ T)"
   ]
  },
  {
   "cell_type": "code",
   "execution_count": 299,
   "id": "b7453fa0-13dc-42b0-a931-f15583c4c504",
   "metadata": {},
   "outputs": [
    {
     "data": {
      "text/plain": [
       "(array([[0.00000000e+00, 0.00000000e+00, 0.00000000e+00, ...,\n",
       "         0.00000000e+00, 0.00000000e+00, 0.00000000e+00],\n",
       "        [6.36341830e-04, 5.78886013e-04, 4.95646244e-04, ...,\n",
       "         1.08443812e-20, 7.04137841e-22, 4.47467756e-23],\n",
       "        [6.71645542e-05, 7.46279680e-05, 7.80439562e-05, ...,\n",
       "         1.54106194e-20, 1.22217078e-21, 9.48625633e-23],\n",
       "        ...,\n",
       "        [1.69143699e-21, 1.69615355e-20, 1.60085016e-19, ...,\n",
       "         3.57280777e-05, 2.55722719e-05, 1.79134870e-05],\n",
       "        [3.92077459e-22, 4.80219854e-21, 5.53585272e-20, ...,\n",
       "         1.11504232e-04, 9.74787413e-05, 8.34026073e-05],\n",
       "        [1.58525182e-22, 2.37151237e-21, 3.33909447e-20, ...,\n",
       "         6.06992594e-04, 6.48128097e-04, 6.77313076e-04]], shape=(256, 256)),\n",
       " np.float64(7.397769835943807))"
      ]
     },
     "execution_count": 299,
     "metadata": {},
     "output_type": "execute_result"
    }
   ],
   "source": [
    "sinkhorn(LambdaH, hists, input_image, 10, 10, 1)"
   ]
  },
  {
   "cell_type": "code",
   "execution_count": 300,
   "id": "6a863553-8d6e-4599-97dd-5e78e9aba957",
   "metadata": {},
   "outputs": [
    {
     "ename": "SyntaxError",
     "evalue": "incomplete input (4061780513.py, line 2)",
     "output_type": "error",
     "traceback": [
      "\u001b[0;36m  Cell \u001b[0;32mIn[300], line 2\u001b[0;36m\u001b[0m\n\u001b[0;31m    \u001b[0m\n\u001b[0m    ^\u001b[0m\n\u001b[0;31mSyntaxError\u001b[0m\u001b[0;31m:\u001b[0m incomplete input\n"
     ]
    }
   ],
   "source": [
    "def transformation(x, T):\n",
    "    "
   ]
  },
  {
   "cell_type": "code",
   "execution_count": 496,
   "id": "263a9d32-3e5a-4fc3-b018-49eabcef609b",
   "metadata": {},
   "outputs": [
    {
     "name": "stderr",
     "output_type": "stream",
     "text": [
      "/tmp/ipykernel_888/3589161652.py:8: RuntimeWarning: divide by zero encountered in divide\n",
      "  return(P/Q_new)\n"
     ]
    }
   ],
   "source": [
    "L = 5\n",
    "Gamma = 1\n",
    "p = hists\n",
    "S = len(p)\n",
    "N = len(p[0])\n",
    "K = np.exp(-C/Gamma)\n",
    "Phi = np.ones((L+1, N, S))\n",
    "b = np.ones((L+1, N, S))\n",
    "w = np.zeros(S)\n",
    "r = np.zeros((N, S))\n",
    "Lambda0 = normalize(np.exp(np.copy(Lambdas)))\n",
    "    \n",
    "for i in range(1, L+1):\n",
    "    P = np.ones(N)\n",
    "\n",
    "    for j in range(S):\n",
    "        #if i==1 and j==0:\n",
    "            #A = multiply(K, b[i-1, :, j])\n",
    "        Phi[i, :, j] = multiply(K, divide(p[j], multiply(K, b[i-1, :, j])))\n",
    "        P *= (np.abs(Phi[i, :, j]))**Lambda0[j]\n",
    "        if i==1 and j==0: \n",
    "            A=P\n",
    "        \n",
    "    for j in range(S):\n",
    "        b[i, :, j] = divide(P, Phi[i, :, j])"
   ]
  },
  {
   "cell_type": "code",
   "execution_count": 497,
   "id": "a33203f1-6a45-47b2-ae51-227028c3230d",
   "metadata": {},
   "outputs": [
    {
     "data": {
      "text/plain": [
       "11904"
      ]
     },
     "execution_count": 497,
     "metadata": {},
     "output_type": "execute_result"
    }
   ],
   "source": [
    "np.count_nonzero(A==0)"
   ]
  },
  {
   "cell_type": "code",
   "execution_count": 491,
   "id": "6e6c2e18-86b7-4244-a3c8-c79aa869788b",
   "metadata": {},
   "outputs": [
    {
     "data": {
      "text/plain": [
       "14610"
      ]
     },
     "execution_count": 491,
     "metadata": {},
     "output_type": "execute_result"
    }
   ],
   "source": [
    "np.count_nonzero(p[0]==0)"
   ]
  },
  {
   "cell_type": "code",
   "execution_count": 493,
   "id": "ae97a8c7-915b-4cc1-ac7d-3405f3c094fb",
   "metadata": {},
   "outputs": [
    {
     "name": "stderr",
     "output_type": "stream",
     "text": [
      "/tmp/ipykernel_888/3589161652.py:8: RuntimeWarning: divide by zero encountered in divide\n",
      "  return(P/Q_new)\n"
     ]
    }
   ],
   "source": [
    "Phi[2, :, 0] = multiply(K, divide(p[0], A))"
   ]
  },
  {
   "cell_type": "code",
   "execution_count": 499,
   "id": "5363180a-0aef-4741-8a38-d1393e103971",
   "metadata": {},
   "outputs": [
    {
     "name": "stdout",
     "output_type": "stream",
     "text": [
      "[[0. 0. 0. ... 0. 0. 0.]\n",
      " [0. 0. 0. ... 0. 0. 0.]\n",
      " [0. 0. 0. ... 0. 0. 0.]\n",
      " ...\n",
      " [0. 0. 0. ... 0. 0. 0.]\n",
      " [0. 0. 0. ... 0. 0. 0.]\n",
      " [0. 0. 0. ... 0. 0. 0.]]\n"
     ]
    }
   ],
   "source": [
    "print(A.reshape(128, 128))"
   ]
  },
  {
   "cell_type": "code",
   "execution_count": null,
   "id": "050910e0-e70d-4a25-833a-5e3bce4123a6",
   "metadata": {},
   "outputs": [],
   "source": []
  }
 ],
 "metadata": {
  "kernelspec": {
   "display_name": "Python 3 (ipykernel)",
   "language": "python",
   "name": "python3"
  },
  "language_info": {
   "codemirror_mode": {
    "name": "ipython",
    "version": 3
   },
   "file_extension": ".py",
   "mimetype": "text/x-python",
   "name": "python",
   "nbconvert_exporter": "python",
   "pygments_lexer": "ipython3",
   "version": "3.12.7"
  }
 },
 "nbformat": 4,
 "nbformat_minor": 5
}
