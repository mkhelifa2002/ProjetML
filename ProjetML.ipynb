{
 "cells": [
  {
   "cell_type": "code",
   "execution_count": 297,
   "id": "8c51f917-00b9-47b2-8fbe-566a9754bc9d",
   "metadata": {},
   "outputs": [
    {
     "ename": "ImportError",
     "evalue": "libGL.so.1: cannot open shared object file: No such file or directory",
     "output_type": "error",
     "traceback": [
      "\u001b[0;31m---------------------------------------------------------------------------\u001b[0m",
      "\u001b[0;31mImportError\u001b[0m                               Traceback (most recent call last)",
      "Cell \u001b[0;32mIn[297], line 4\u001b[0m\n\u001b[1;32m      2\u001b[0m \u001b[38;5;28;01mfrom\u001b[39;00m\u001b[38;5;250m \u001b[39m\u001b[38;5;21;01mPIL\u001b[39;00m\u001b[38;5;250m \u001b[39m\u001b[38;5;28;01mimport\u001b[39;00m Image\n\u001b[1;32m      3\u001b[0m \u001b[38;5;28;01mimport\u001b[39;00m\u001b[38;5;250m \u001b[39m\u001b[38;5;21;01mscipy\u001b[39;00m\n\u001b[0;32m----> 4\u001b[0m \u001b[38;5;28;01mimport\u001b[39;00m\u001b[38;5;250m \u001b[39m\u001b[38;5;21;01mcv2\u001b[39;00m\n",
      "\u001b[0;31mImportError\u001b[0m: libGL.so.1: cannot open shared object file: No such file or directory"
     ]
    }
   ],
   "source": [
    "import numpy as np\n",
    "from PIL import Image\n",
    "import scipy\n",
    "import cv2"
   ]
  },
  {
   "cell_type": "code",
   "execution_count": 43,
   "id": "fb56f52f-b76d-4d7a-9858-7955bf36faa6",
   "metadata": {},
   "outputs": [],
   "source": [
    "def normalize(p):\n",
    "    return p / np.sum(p)"
   ]
  },
  {
   "cell_type": "code",
   "execution_count": 44,
   "id": "3f80f081-d807-4743-8ab6-6f29a054d95b",
   "metadata": {},
   "outputs": [],
   "source": [
    "def dist(x, y, alpha):\n",
    "    return ((x[0]-y[0])**alpha + (x[1]-y[1])**alpha)"
   ]
  },
  {
   "cell_type": "code",
   "execution_count": 45,
   "id": "50405bfd-2f56-4ab5-aa13-8d0698adcc0c",
   "metadata": {},
   "outputs": [],
   "source": [
    "def Cost_matrix(N, alpha):\n",
    "    C = np.zeros((N*N, N*N))\n",
    "    for j1 in range(N):\n",
    "        for j2 in range(N):\n",
    "            column = []\n",
    "            for i in range(N):\n",
    "                column.append(dist([0, j1], [i, j2], alpha))\n",
    "            C[N*j1:N*j1+N, N*j2:N*j2+N] = scipy.linalg.toeplitz(np.array(column))\n",
    "    return(C)"
   ]
  },
  {
   "cell_type": "code",
   "execution_count": 46,
   "id": "c893be49-8e48-4171-a680-95c07daa1d2a",
   "metadata": {},
   "outputs": [],
   "source": [
    "def multiply(K, X): # Takes in argument a matrix of cost K and a vector X\n",
    "    n = int(np.sqrt(len(X)))\n",
    "    Y = np.zeros(len(K[0]))\n",
    "    for j in range(n):\n",
    "        for i in range(n):\n",
    "            Y[n*j:n*j+n] += scipy.linalg.matmul_toeplitz(K[n*i:n*i+n, n*j:n*j+n][0], X[n*j:n*j+n])\n",
    "    return Y"
   ]
  },
  {
   "cell_type": "code",
   "execution_count": 247,
   "id": "04663985-9aab-4e10-b3a2-8dc1946f8815",
   "metadata": {},
   "outputs": [],
   "source": [
    "def sinkhorn_differentiate(Lambda, p, q, Gamma, L):\n",
    "\n",
    "    S = len(p)\n",
    "    N = len(p[0])\n",
    "    C = Cost_matrix(int(np.sqrt(N)), 2)\n",
    "    K = np.exp(- C / Gamma)\n",
    "    Phi = np.ones((L+1, N, S))\n",
    "    b = np.ones((L+1, N, S))\n",
    "    w = np.zeros(S)\n",
    "    r = np.zeros((N, S))\n",
    "    Lambda0 = normalize(np.exp(np.copy(Lambda)))\n",
    "    \n",
    "    for i in range(1, L+1):\n",
    "        P = np.ones(N)\n",
    "\n",
    "        for j in range(S):\n",
    "            Phi[i, :, j] = multiply(K, (p[j] / multiply(K, b[i-1, :, j])))\n",
    "            P *= Phi[i, :, j]**Lambda0[j]\n",
    "        \n",
    "        for j in range(S):\n",
    "            b[i, :, j] = P / Phi[i, :, j]\n",
    "\n",
    "    g = 2*(P - q) * P\n",
    "    \n",
    "    for i in range(1, L+1):\n",
    "\n",
    "        for j in range(S):\n",
    "            w[j] += np.inner(np.log(Phi[L-i+1, :, j]), g)\n",
    "            r[:, j] = - multiply(K, (multiply(K, ((Lambda0[j] * g - r[:, j]) / Phi[L-i+1, :, j])) * (p[j] / multiply(K, b[L-i, :, j]) ** 2))) * b[L-i, :, j]\n",
    "       \n",
    "        g = np.zeros(N)\n",
    "        for j in range(S):    \n",
    "            g += r[:, j]\n",
    "\n",
    "    return np.sum((P - q) ** 2), w"
   ]
  },
  {
   "cell_type": "code",
   "execution_count": 258,
   "id": "9d95b2d3-794f-42bc-8c95-f59eb28ffc27",
   "metadata": {},
   "outputs": [],
   "source": [
    "img1 = Image.open('Images/ML_HOGGAR/HOGGAR_data1.jpg')\n",
    "img2 = Image.open('Images/ML_HOGGAR/HOGGAR_data2.jpg')\n",
    "img3 = Image.open('Images/ML_HOGGAR/HOGGAR_data3.jpg')\n",
    "img4 = Image.open('Images/ML_HOGGAR/HOGGAR_data5.jpg')\n",
    "\n",
    "shape1 = np.asarray(img1).reshape(-1)\n",
    "shape2 = np.asarray(img2).reshape(-1)\n",
    "shape3 = np.asarray(img3).reshape(-1)\n",
    "shape4 = np.asarray(img4).reshape(-1)\n",
    "\n",
    "hist1 = np.histogram(shape1, bins=np.arange(0,256), density=True)[0]\n",
    "hist2 = np.histogram(shape2, bins=np.arange(0,256), density=True)[0]\n",
    "hist3 = np.histogram(shape3, bins=np.arange(0,256), density=True)[0]\n",
    "hist4 = np.histogram(shape4, bins=np.arange(0,256), density=True)[0]\n",
    "\n",
    "hist1 = np.append(np.zeros(1), hist1)\n",
    "hist2 = np.append(np.zeros(1), hist2)\n",
    "hist3 = np.append(np.zeros(1), hist3)\n",
    "hist4 = np.append(np.zeros(1), hist4)\n",
    "\n",
    "hists = np.array([hist1, hist2, hist3])"
   ]
  },
  {
   "cell_type": "code",
   "execution_count": 263,
   "id": "fbdaa648-5b53-46c0-81c6-eb4d42ec9105",
   "metadata": {},
   "outputs": [],
   "source": [
    "shape = np.asarray(Image.open('Images/ML_HOGGAR/HOGGAR_obj.jpg')).reshape(-1)\n",
    "input_image = np.histogram(shape, bins=np.arange(0,256), density=True)[0]\n",
    "input_image = np.append(np.zeros(1), input_image)\n",
    "q = input_image"
   ]
  },
  {
   "cell_type": "code",
   "execution_count": 239,
   "id": "abae2c9e-3b8e-409e-b4c3-e28143ca6d8f",
   "metadata": {},
   "outputs": [
    {
     "data": {
      "text/plain": [
       "(array([0.6708116 , 0.91629615, 1.10586609, 1.21014627, 1.2357614 ,\n",
       "        1.21189204, 1.17154485, 1.13996834, 1.129508  , 1.13872608,\n",
       "        1.15534068, 1.15938415, 1.12538176, 1.02954239, 0.86439727,\n",
       "        0.65029076, 0.3191802 , 0.47220862, 0.63157373, 0.77698133,\n",
       "        0.89543942, 0.98494731, 1.05280574, 1.11062467, 1.16853373,\n",
       "        1.22984003, 1.28658416, 1.31753304, 1.29227501, 1.18448326,\n",
       "        0.99044513, 0.73957537, 0.50679161, 0.70056904, 0.87174877,\n",
       "        0.99781157, 1.07501432, 1.11475878, 1.13439637, 1.14928355,\n",
       "        1.16829714, 1.19161189, 1.20947337, 1.20264827, 1.14716685,\n",
       "        1.02520493, 0.83854135, 0.61454497, 0.5649495 , 0.77388072,\n",
       "        0.94910982, 1.06451288, 1.11841117, 1.12856751, 1.11933037,\n",
       "        1.11071547, 1.1132982 , 1.1271269 , 1.14187702, 1.13791741,\n",
       "        1.09075994, 0.9812351 , 0.80863403, 0.59734625, 0.57779526,\n",
       "        0.7934088 , 0.97388978, 1.09152939, 1.14432685, 1.15076265,\n",
       "        1.13618075, 1.12131943, 1.11711604, 1.12380553, 1.13129707,\n",
       "        1.12039962, 1.06736272, 0.954038  , 0.78074549, 0.57229459,\n",
       "        0.6178682 , 0.83257651, 1.00515477, 1.11129917, 1.15296036,\n",
       "        1.15081801, 1.13043831, 1.11196986, 1.10596359, 1.1126839 ,\n",
       "        1.12218832, 1.11520241, 1.0674379 , 0.95966751, 0.79074742,\n",
       "        0.58420633, 0.57194159, 0.77709275, 0.94483233, 1.05069382,\n",
       "        1.09563718, 1.09983396, 1.08917245, 1.08437564, 1.09601377,\n",
       "        1.12318142, 1.15322781, 1.1628628 , 1.12371239, 1.01444675,\n",
       "        0.83536725, 0.61452833, 0.64391405, 0.86914122, 1.04810586,\n",
       "        1.15316352, 1.18564872, 1.16855387, 1.13119181, 1.09706665,\n",
       "        1.0787072 , 1.07696493, 1.08156959, 1.07255966, 1.02508716,\n",
       "        0.91978725, 0.75566576, 0.5560891 , 0.63154764, 0.85179679,\n",
       "        1.02408595, 1.12163829, 1.14826055, 1.12999754, 1.09818991,\n",
       "        1.0763838 , 1.07519984, 1.09214569, 1.11274328, 1.11284596,\n",
       "        1.06503563, 0.95070737, 0.7731627 , 0.56136586, 0.7045896 ,\n",
       "        0.93276417, 1.10443977, 1.19548374, 1.2125493 , 1.18243474,\n",
       "        1.13551843, 1.09445876, 1.0703538 , 1.06286691, 1.06119691,\n",
       "        1.04584685, 0.99352011, 0.8868261 , 0.72581052, 0.53295331,\n",
       "        0.47588916, 0.64652205, 0.79022858, 0.89069671, 0.95158125,\n",
       "        0.98981518, 1.02443562, 1.06895981, 1.12870508, 1.19994895,\n",
       "        1.26851985, 1.30901015, 1.28908243, 1.18254521, 0.98732225,\n",
       "        0.73493464, 0.58305034, 0.7950666 , 0.97473447, 1.09786309,\n",
       "        1.16241146, 1.18287358, 1.17909831, 1.16766386, 1.15804105,\n",
       "        1.15162301, 1.14150932, 1.11298975, 1.04691051, 0.92813601,\n",
       "        0.7569864 , 0.55534764, 0.57230552, 0.79320396, 0.98593049,\n",
       "        1.1202766 , 1.18826157, 1.20228798, 1.18470852, 1.15704141,\n",
       "        1.13336759, 1.117716  , 1.10358198, 1.07509735, 1.01152   ,\n",
       "        0.89663845, 0.730422  , 0.534615  , 0.74098107, 0.9889891 ,\n",
       "        1.17510978, 1.26884661, 1.27519557, 1.22423644, 1.15180282,\n",
       "        1.0852399 , 1.03840577, 1.01226531, 0.99669141, 0.97259879,\n",
       "        0.91692637, 0.81250455, 0.65947178, 0.47950971, 0.78268907,\n",
       "        1.03459868, 1.22136748, 1.31597029, 1.32565821, 1.27912441,\n",
       "        1.2079438 , 1.13505491, 1.07192001, 1.01980153, 0.97161672,\n",
       "        0.91413287, 0.83219464, 0.71588477, 0.56809676, 0.40676917,\n",
       "        0.795041  , 1.04617792, 1.232657  , 1.33335423, 1.36294365,\n",
       "        1.3565366 , 1.34825356, 1.3553042 , 1.3711533 , 1.37115466,\n",
       "        1.32973816, 1.23591765, 1.09317801, 0.90936804, 0.69619708,\n",
       "        0.47775745]),\n",
       " array([62179.13674339, 62183.77240954, 62175.70956218, 62181.28356258]))"
      ]
     },
     "execution_count": 239,
     "metadata": {},
     "output_type": "execute_result"
    }
   ],
   "source": [
    "Lambdas = np.array([0.5 for i in range(len(hists))])\n",
    "sinkhorn_differentiate(Lambdas, C, hists, q, 20, 20)"
   ]
  },
  {
   "cell_type": "code",
   "execution_count": 266,
   "id": "8a5e3f4d-8f77-4e90-b9ff-f8db6fc6017b",
   "metadata": {},
   "outputs": [],
   "source": [
    "p = hists\n",
    "LambdaINI = np.array([0.3, 0.4, 0.3])\n",
    "resH = scipy.optimize.minimize(sinkhorn_differentiate, LambdaINI, method='BFGS', args=(p, q, 10, 10), jac=True)"
   ]
  },
  {
   "cell_type": "code",
   "execution_count": 267,
   "id": "7f2fe692-8170-47b9-9b69-5e1aa37c2387",
   "metadata": {},
   "outputs": [
    {
     "name": "stdout",
     "output_type": "stream",
     "text": [
      "  message: Desired error not necessarily achieved due to precision loss.\n",
      "  success: False\n",
      "   status: 2\n",
      "      fun: 0.002414900630069163\n",
      "        x: [ 1.383e+00 -1.119e+00 -6.910e-01]\n",
      "      nit: 19\n",
      "      jac: [ 1.032e-04 -3.148e-04  1.027e-04]\n",
      " hess_inv: [[ 1.399e+03  2.494e+01  5.439e+03]\n",
      "            [ 2.494e+01  1.346e+02  5.489e+02]\n",
      "            [ 5.439e+03  5.489e+02  2.269e+04]]\n",
      "     nfev: 80\n",
      "     njev: 69\n"
     ]
    }
   ],
   "source": [
    "print(resH)"
   ]
  },
  {
   "cell_type": "code",
   "execution_count": 268,
   "id": "89fc13ea-2d68-424e-9008-a9f588aba863",
   "metadata": {},
   "outputs": [
    {
     "name": "stdout",
     "output_type": "stream",
     "text": [
      "[0.82804178 0.06784739 0.10411083]\n"
     ]
    }
   ],
   "source": [
    "LambdaH = normalize(np.exp(resH.x))\n",
    "print(LambdaH)"
   ]
  },
  {
   "cell_type": "code",
   "execution_count": 295,
   "id": "74e50741-0831-4964-9b7c-d398510e8a00",
   "metadata": {},
   "outputs": [],
   "source": [
    "def sinkhorn(Lambda, hists, input_image, Gamma, L, epsilon):\n",
    "\n",
    "    N = len(hists[0])\n",
    "    C = Cost_matrix(int(np.sqrt(N)), 2)\n",
    "    q, w = sinkhorn_differentiate(Lambda, hists, input_image, Gamma, L)\n",
    "    K = np.exp(-C/Gamma)\n",
    "    \n",
    "    u = np.ones(len(C[0]))\n",
    "    v = np.ones(len(C[1]))\n",
    "    T = np.diag(u.flatten()) @ K @ np.diag(v.flatten())\n",
    "    t_norm = np.trace(T.T @ T)\n",
    "    \n",
    "    while True:\n",
    "        u = input_image/multiply(K, v) # avoid divided by zero\n",
    "        v = q/multiply(K, u)\n",
    "        T = np.diag(u.flatten()) @ K @ np.diag(v.flatten())\n",
    "        if abs((np.trace(T.T @ T) - t_norm)/t_norm) < epsilon:\n",
    "            break\n",
    "        t_norm = np.trace(T.T @ T)\n",
    "    return T, np.trace(C.T @ T)"
   ]
  },
  {
   "cell_type": "code",
   "execution_count": 299,
   "id": "b7453fa0-13dc-42b0-a931-f15583c4c504",
   "metadata": {},
   "outputs": [
    {
     "data": {
      "text/plain": [
       "(array([[0.00000000e+00, 0.00000000e+00, 0.00000000e+00, ...,\n",
       "         0.00000000e+00, 0.00000000e+00, 0.00000000e+00],\n",
       "        [6.36341830e-04, 5.78886013e-04, 4.95646244e-04, ...,\n",
       "         1.08443812e-20, 7.04137841e-22, 4.47467756e-23],\n",
       "        [6.71645542e-05, 7.46279680e-05, 7.80439562e-05, ...,\n",
       "         1.54106194e-20, 1.22217078e-21, 9.48625633e-23],\n",
       "        ...,\n",
       "        [1.69143699e-21, 1.69615355e-20, 1.60085016e-19, ...,\n",
       "         3.57280777e-05, 2.55722719e-05, 1.79134870e-05],\n",
       "        [3.92077459e-22, 4.80219854e-21, 5.53585272e-20, ...,\n",
       "         1.11504232e-04, 9.74787413e-05, 8.34026073e-05],\n",
       "        [1.58525182e-22, 2.37151237e-21, 3.33909447e-20, ...,\n",
       "         6.06992594e-04, 6.48128097e-04, 6.77313076e-04]], shape=(256, 256)),\n",
       " np.float64(7.397769835943807))"
      ]
     },
     "execution_count": 299,
     "metadata": {},
     "output_type": "execute_result"
    }
   ],
   "source": [
    "sinkhorn(LambdaH, hists, input_image, 10, 10, 1)"
   ]
  },
  {
   "cell_type": "code",
   "execution_count": 300,
   "id": "6a863553-8d6e-4599-97dd-5e78e9aba957",
   "metadata": {},
   "outputs": [
    {
     "ename": "SyntaxError",
     "evalue": "incomplete input (4061780513.py, line 2)",
     "output_type": "error",
     "traceback": [
      "\u001b[0;36m  Cell \u001b[0;32mIn[300], line 2\u001b[0;36m\u001b[0m\n\u001b[0;31m    \u001b[0m\n\u001b[0m    ^\u001b[0m\n\u001b[0;31mSyntaxError\u001b[0m\u001b[0;31m:\u001b[0m incomplete input\n"
     ]
    }
   ],
   "source": [
    "def transformation(x, T):\n",
    "    "
   ]
  },
  {
   "cell_type": "code",
   "execution_count": null,
   "id": "263a9d32-3e5a-4fc3-b018-49eabcef609b",
   "metadata": {},
   "outputs": [],
   "source": []
  }
 ],
 "metadata": {
  "kernelspec": {
   "display_name": "Python 3 (ipykernel)",
   "language": "python",
   "name": "python3"
  },
  "language_info": {
   "codemirror_mode": {
    "name": "ipython",
    "version": 3
   },
   "file_extension": ".py",
   "mimetype": "text/x-python",
   "name": "python",
   "nbconvert_exporter": "python",
   "pygments_lexer": "ipython3",
   "version": "3.12.7"
  }
 },
 "nbformat": 4,
 "nbformat_minor": 5
}
