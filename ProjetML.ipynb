{
 "cells": [
  {
   "cell_type": "code",
   "execution_count": 1,
   "id": "8c51f917-00b9-47b2-8fbe-566a9754bc9d",
   "metadata": {},
   "outputs": [],
   "source": [
    "import numpy as np\n",
    "import matplotlib.pyplot as plt\n",
    "import cv2\n",
    "import scipy as sp\n",
    "from scipy.linalg import toeplitz, matmul_toeplitz\n",
    "from PIL import Image"
   ]
  },
  {
   "cell_type": "code",
   "execution_count": 2,
   "id": "cac35c13-93c0-488c-b2ea-da5b6f2e1dd7",
   "metadata": {},
   "outputs": [],
   "source": [
    "def image_to_array(image_path):\n",
    "\n",
    "    img = Image.open(image_path).convert('L')\n",
    "\n",
    "    threshold = 128\n",
    "    binary_img = img.point(lambda x: 0 if x > threshold else 1, '1')\n",
    "    \n",
    "    array = np.array(binary_img, dtype=int)\n",
    "    \n",
    "    return array"
   ]
  },
  {
   "cell_type": "code",
   "execution_count": 3,
   "id": "ce48241b-1717-4864-b31f-961d8f3e9e5a",
   "metadata": {},
   "outputs": [],
   "source": [
    "def array_to_image(array, output_file=None):\n",
    "\n",
    "    if not isinstance(array, np.ndarray):\n",
    "        raise ValueError(\"Input must be a numpy array.\")\n",
    "\n",
    "    if array.ndim != 2:\n",
    "        raise ValueError(\"Input array must be 2D.\")\n",
    "\n",
    "    normalized_array = 255 - (255 * (array - array.min()) / (np.ptp(array) + 1e-8)).astype(np.uint8)\n",
    "\n",
    "    image = Image.fromarray(normalized_array, mode='L')\n",
    "\n",
    "    if output_file:\n",
    "        image.save(output_file)\n",
    "\n",
    "    return image"
   ]
  },
  {
   "cell_type": "code",
   "execution_count": 4,
   "id": "fb56f52f-b76d-4d7a-9858-7955bf36faa6",
   "metadata": {},
   "outputs": [],
   "source": [
    "def normalize(p):\n",
    "    return p / np.sum(p)"
   ]
  },
  {
   "cell_type": "code",
   "execution_count": 5,
   "id": "e960c480-4fd0-4c75-8bee-bec088960ec0",
   "metadata": {},
   "outputs": [],
   "source": [
    "def applyK(v, N_grid, Gamma):\n",
    "    V = np.zeros(N_grid * N_grid)\n",
    "    u = np.zeros((N_grid, N_grid))\n",
    "    \n",
    "    for i in range(N_grid):\n",
    "        for j in range(i, N_grid):\n",
    "            u[i, j] = (i - j) ** 2\n",
    "\n",
    "    U = np.copy(u) + np.copy(u).T\n",
    "\n",
    "    for i in range(N_grid):\n",
    "        for j in range(N_grid):\n",
    "            V[(i*N_grid):((i+1)*N_grid)] += np.exp(-(U + (i - j) ** 2) / Gamma) @ v[(j*N_grid):((j+1)*N_grid)]\n",
    "    \n",
    "    return V"
   ]
  },
  {
   "cell_type": "code",
   "execution_count": 6,
   "id": "c893be49-8e48-4171-a680-95c07daa1d2a",
   "metadata": {},
   "outputs": [],
   "source": [
    "def sinkhorn_barycenter(Lambda, p, L, N_grid, Gamma):\n",
    "\n",
    "    S = len(p)\n",
    "    N_histo = N_grid * N_grid\n",
    "    a = np.ones((N_histo, S))\n",
    "    b = np.ones((N_histo, S))\n",
    "\n",
    "    for _ in range(L):\n",
    "        P = np.ones(N_histo)\n",
    "        for k in range(S):\n",
    "            P *= applyK(a[:, k], N_grid, Gamma) ** Lambda[k]\n",
    "\n",
    "        for k in range(S):\n",
    "            b[:, k] = np.copy(P) / applyK(a[:, k], N_grid, Gamma)\n",
    "\n",
    "        for k in range(S):\n",
    "            a[:, k] = np.copy(p[k, :]) / applyK(b[:, k], N_grid, Gamma)\n",
    "\n",
    "    P = np.ones(N_histo)\n",
    "    for k in range(S):\n",
    "        P *= applyK(a[:, k], N_grid, Gamma) ** Lambda[k]\n",
    "\n",
    "    return P"
   ]
  },
  {
   "cell_type": "code",
   "execution_count": 7,
   "id": "9d95b2d3-794f-42bc-8c95-f59eb28ffc27",
   "metadata": {},
   "outputs": [],
   "source": [
    "shape1 = normalize(image_to_array(\"cercle.png\").reshape(-1))\n",
    "shape2 = normalize(image_to_array(\"triangle.png\").reshape(-1))\n",
    "shape3 = normalize(image_to_array(\"carre.png\").reshape(-1))\n",
    "\n",
    "shapes = np.array([shape1, shape2, shape3])"
   ]
  },
  {
   "cell_type": "code",
   "execution_count": 8,
   "id": "67b62865-e885-403f-aeeb-fc44e393d0c9",
   "metadata": {},
   "outputs": [],
   "source": [
    "Lambda = np.array([0.34, 0.33, 0.33])\n",
    "SHAPE = sinkhorn_barycenter(Lambda, shapes, 12, 100, 8)"
   ]
  },
  {
   "cell_type": "code",
   "execution_count": 9,
   "id": "608621bc-f7f2-4383-89a2-f8171d149c92",
   "metadata": {},
   "outputs": [
    {
     "data": {
      "image/jpeg": "[encoded data removed]",
      "image/png": "[encoded data removed]",
      "text/plain": [
       "<PIL.Image.Image image mode=L size=100x100>"
      ]
     },
     "execution_count": 9,
     "metadata": {},
     "output_type": "execute_result"
    }
   ],
   "source": [
    "array_to_image(SHAPE.reshape((100, 100)), output_file=\"APPLICATION 1.jpg\")"
   ]
  },
  {
   "cell_type": "code",
   "execution_count": 13,
   "id": "04663985-9aab-4e10-b3a2-8dc1946f8815",
   "metadata": {},
   "outputs": [],
   "source": [
    "def sinkhorn_differentiate(Lambda, p, q, L, N_grid, Gamma):\n",
    "\n",
    "    S = len(p)\n",
    "    N_histo = N_grid * N_grid\n",
    "    Phi = np.ones((L+1, N_histo, S))\n",
    "    b = np.ones((L+1, N_histo, S))\n",
    "    w = np.zeros(S)\n",
    "    r = np.zeros((N_histo, S))\n",
    "    \n",
    "    for i in range(1, L+1):\n",
    "        P = np.ones(N_histo)\n",
    "        \n",
    "        for j in range(S):\n",
    "            Phi[i, :, j] = applyK(p[j, :] / (applyK(b[i-1, :, j], N_grid, Gamma)), N_grid, Gamma)\n",
    "\n",
    "        for j in range(S):\n",
    "            P *= Phi[i, :, j] ** Lambda[j]\n",
    "\n",
    "        for j in range(S):\n",
    "            b[i, :, j] = P / Phi[i, :, j]\n",
    "\n",
    "    g = (P - q) * P\n",
    "\n",
    "    for i in range(1, L+1):\n",
    "        \n",
    "        for j in range(S):\n",
    "            w[j] += np.dot(np.log(Phi[L-i+1, :, j]), g)\n",
    "\n",
    "        for j in range(S):\n",
    "            r[:, j] = - applyK(applyK((Lambda[j] * g - r[:, j]) / Phi[L-i+1, :, j], N_grid, Gamma) * (p[j, :] / (applyK(b[L-i, :, j], N_grid, Gamma) ** 2)), N_grid, Gamma) * b[L-i, :, j]\n",
    "\n",
    "        g = np.zeros(N_histo)\n",
    "        for j in range(S):\n",
    "            g += r[:, j]\n",
    "\n",
    "    return np.sum((P - q) ** 2), w"
   ]
  },
  {
   "cell_type": "code",
   "execution_count": 42,
   "id": "6040dc21-cd66-4697-894b-1a00607c7c1a",
   "metadata": {},
   "outputs": [],
   "source": [
    "shape0 = normalize(image_to_array(\"penta.png\").reshape(-1))"
   ]
  },
  {
   "cell_type": "code",
   "execution_count": 43,
   "id": "b9b7b41e-b36a-4e78-a8d3-c96cb8e243d3",
   "metadata": {},
   "outputs": [],
   "source": [
    "resX = sp.optimize.minimize(sinkhorn_differentiate, Lambda, bounds=((0, 1), (0, 1), (0, 1)), args=(shapes, shape0, 8, 100, 8), jac=True)"
   ]
  },
  {
   "cell_type": "code",
   "execution_count": 44,
   "id": "49cea7ed-50a7-41c5-b15c-e4e688c75752",
   "metadata": {},
   "outputs": [
    {
     "name": "stdout",
     "output_type": "stream",
     "text": [
      "[0.57390262 0.23109489 0.19500249]\n"
     ]
    }
   ],
   "source": [
    "LambdaX = normalize(resX.x)\n",
    "print(LambdaX)\n",
    "PX = sinkhorn_barycenter(LambdaX, shapes, 16, 100, 8)"
   ]
  },
  {
   "cell_type": "code",
   "execution_count": 45,
   "id": "3db612db-f47a-4fca-abe7-e2d48378cede",
   "metadata": {},
   "outputs": [
    {
     "data": {
      "image/jpeg": "[encoded data removed]",
      "image/png": "[encoded data removed]",
      "text/plain": [
       "<PIL.Image.Image image mode=L size=100x100>"
      ]
     },
     "execution_count": 45,
     "metadata": {},
     "output_type": "execute_result"
    }
   ],
   "source": [
    "array_to_image(PX.reshape((100, 100)), output_file=\"APPLICATION 1 PENTA.jpg\")"
   ]
  },
  {
   "cell_type": "code",
   "execution_count": 10,
   "id": "2f5c0e26-cab4-41ec-b957-15b50981aa25",
   "metadata": {},
   "outputs": [],
   "source": [
    "def chrominance_luminance_histograms(image_path):\n",
    "\n",
    "    image = cv2.imread(image_path)\n",
    "    if image is None:\n",
    "        raise FileNotFoundError(f\"Image at path '{image_path}' not found.\")\n",
    "\n",
    "    ycrcb_image = cv2.cvtColor(image, cv2.COLOR_BGR2YCrCb)\n",
    "\n",
    "    Y, Cr, Cb = cv2.split(ycrcb_image)\n",
    "\n",
    "    hist_Y = cv2.calcHist([Y], [0], None, [64], [0, 256])\n",
    "    hist_CrCb = cv2.calcHist([Cr, Cb], [0, 1], None, [64, 64], [0, 256, 0, 256])\n",
    "\n",
    "    return hist_CrCb.reshape(-1), hist_Y.reshape(-1)"
   ]
  },
  {
   "cell_type": "code",
   "execution_count": 11,
   "id": "6fb31762-e23f-4428-8966-811b5de6d2c0",
   "metadata": {},
   "outputs": [],
   "source": [
    "def image_to_chrominance_luminance_array(image_path):\n",
    "\n",
    "    image = cv2.imread(image_path)\n",
    "    if image is None:\n",
    "        raise ValueError(f\"Could not load image at path: {image_path}\")\n",
    "\n",
    "    ycrcb_image = cv2.cvtColor(image, cv2.COLOR_BGR2YCrCb)\n",
    "\n",
    "    Y, Cb, Cr = cv2.split(ycrcb_image)\n",
    "\n",
    "    chrominance_luminance_array = np.dstack((Y // 4, Cr // 4, Cb // 4))\n",
    "\n",
    "    return chrominance_luminance_array"
   ]
  },
  {
   "cell_type": "code",
   "execution_count": 12,
   "id": "b8c31769-90e4-4dea-8ec0-ac7948d0d763",
   "metadata": {},
   "outputs": [],
   "source": [
    "def ycbcr_to_rgb(ycbcr_array, output_path=None):\n",
    "\n",
    "    ycbcr_array = np.array(ycbcr_array, dtype=np.uint8)\n",
    "    \n",
    "    ycbcr_image = Image.fromarray(ycbcr_array, mode=\"YCbCr\")\n",
    "    \n",
    "    rgb_image = ycbcr_image.convert(\"RGB\")\n",
    "\n",
    "    rgb_image.save(output_path)"
   ]
  },
  {
   "cell_type": "code",
   "execution_count": 14,
   "id": "aab8e69d-0c10-4d42-bbdb-16fe74b1e1e7",
   "metadata": {},
   "outputs": [],
   "source": [
    "LambdaINI = np.array([0.3, 0.4, 0.3])\n",
    "\n",
    "pA1, lA1 = chrominance_luminance_histograms(\"ALPES_data1.PNG\")\n",
    "pA2, lA2 = chrominance_luminance_histograms(\"ALPES_data2.jpeg\")\n",
    "pA3, lA3 = chrominance_luminance_histograms(\"ALPES_data3.jpg\")\n",
    "qA, LA = chrominance_luminance_histograms(\"ALPES_obj_200.jpg\")\n",
    "pA = np.array([normalize(pA1), normalize(pA2), normalize(pA3)])\n",
    "\n",
    "pC1, lC1 = chrominance_luminance_histograms(\"CANYON_data1.jpg\")\n",
    "pC2, lC2 = chrominance_luminance_histograms(\"CANYON_data2.jpg\")\n",
    "pC3, lC3 = chrominance_luminance_histograms(\"CANYON_data3.PNG\")\n",
    "qC, LC = chrominance_luminance_histograms(\"CANYON_obj_200.jpg\")\n",
    "pC = np.array([normalize(pC1), normalize(pC2), normalize(pC3)])\n",
    "\n",
    "pH1, lH1 = chrominance_luminance_histograms(\"HOGGAR_data1.jpg\")\n",
    "pH2, lH2 = chrominance_luminance_histograms(\"HOGGAR_data2.jpg\")\n",
    "pH3, lH3 = chrominance_luminance_histograms(\"HOGGAR_data3.jpg\")\n",
    "qH, LH = chrominance_luminance_histograms(\"HOGGAR_obj_200.jpg\")\n",
    "pH = np.array([normalize(pH1), normalize(pH2), normalize(pH3)])"
   ]
  },
  {
   "cell_type": "code",
   "execution_count": 17,
   "id": "75fa01a3-08e6-484d-875c-16bf8137aed1",
   "metadata": {},
   "outputs": [
    {
     "name": "stdout",
     "output_type": "stream",
     "text": [
      "A done\n"
     ]
    },
    {
     "name": "stderr",
     "output_type": "stream",
     "text": [
      "/tmp/ipykernel_6678/211707266.py:22: RuntimeWarning: overflow encountered in multiply\n",
      "  g = (P - q) * P\n",
      "/tmp/ipykernel_6678/2042652274.py:13: RuntimeWarning: invalid value encountered in matmul\n",
      "  V[(i*N_grid):((i+1)*N_grid)] += np.exp(-(U + (i - j) ** 2) / Gamma) @ v[(j*N_grid):((j+1)*N_grid)]\n",
      "/tmp/ipykernel_6678/211707266.py:30: RuntimeWarning: invalid value encountered in multiply\n",
      "  r[:, j] = - applyK(applyK((Lambda[j] * g - r[:, j]) / Phi[L-i+1, :, j], N_grid, Gamma) * (p[j, :] / (applyK(b[L-i, :, j], N_grid, Gamma) ** 2)), N_grid, Gamma) * b[L-i, :, j]\n",
      "/tmp/ipykernel_6678/211707266.py:36: RuntimeWarning: overflow encountered in square\n",
      "  return np.sum((P - q) ** 2), w\n"
     ]
    },
    {
     "name": "stdout",
     "output_type": "stream",
     "text": [
      "C done\n",
      "H done\n"
     ]
    }
   ],
   "source": [
    "resA = sp.optimize.minimize(sinkhorn_differentiate, LambdaINI, bounds=((0, 1), (0, 1), (0, 1)), args=(pA, normalize(qA), 8, 64, 8), jac=True)\n",
    "print(\"A done\")\n",
    "resC = sp.optimize.minimize(sinkhorn_differentiate, LambdaINI, bounds=((0, 1), (0, 1), (0, 1)), args=(pC, normalize(qC), 8, 64, 8), jac=True)\n",
    "print(\"C done\")\n",
    "resH = sp.optimize.minimize(sinkhorn_differentiate, LambdaINI, bounds=((0, 1), (0, 1), (0, 1)), args=(pH, normalize(qH), 8, 64, 8), jac=True)\n",
    "print(\"H done\")"
   ]
  },
  {
   "cell_type": "code",
   "execution_count": 18,
   "id": "134053c4-9505-455d-b2a7-77f026084cba",
   "metadata": {},
   "outputs": [],
   "source": [
    "LambdaA = normalize(resA.x)\n",
    "LambdaC = normalize(resC.x)\n",
    "LambdaH = normalize(resH.x)"
   ]
  },
  {
   "cell_type": "code",
   "execution_count": 46,
   "id": "87300517-df7e-49e9-b0c7-d0633a5e5a78",
   "metadata": {},
   "outputs": [
    {
     "name": "stdout",
     "output_type": "stream",
     "text": [
      "[0.20762698 0.20938447 0.58298855]\n",
      "[0.35276515 0.34822296 0.29901189]\n",
      "[0.39944724 0.         0.60055276]\n"
     ]
    }
   ],
   "source": [
    "print(LambdaA)\n",
    "print(LambdaC)\n",
    "print(LambdaH)"
   ]
  },
  {
   "cell_type": "code",
   "execution_count": 23,
   "id": "f136404b-a224-4ccb-bd27-e323a237d3a3",
   "metadata": {},
   "outputs": [],
   "source": [
    "PA = sinkhorn_barycenter(LambdaA, pA, 16, 64, 8)\n",
    "PC = sinkhorn_barycenter(LambdaC, pC, 16, 64, 8)\n",
    "PH = sinkhorn_barycenter(LambdaH, pH, 16, 64, 8)"
   ]
  },
  {
   "cell_type": "code",
   "execution_count": 24,
   "id": "9a8e471e-2124-4f5f-ba2d-9bf27d7b0780",
   "metadata": {},
   "outputs": [],
   "source": [
    "def sinkhorn_algorithm(p, q, L, N_grid, Gamma):\n",
    "\n",
    "    N_histo = N_grid * N_grid\n",
    "    u = np.ones(N_histo)\n",
    "    v = np.ones(N_histo)\n",
    "\n",
    "    for _ in range(L):\n",
    "\n",
    "        u = p / applyK(v, N_grid, Gamma)\n",
    "        v = q / applyK(u, N_grid, Gamma)\n",
    "\n",
    "    return u, v"
   ]
  },
  {
   "cell_type": "code",
   "execution_count": 25,
   "id": "fb5cd09a-7bdc-4051-8e14-d980a8220b8c",
   "metadata": {},
   "outputs": [],
   "source": [
    "def transport_pixel(x, u, v, N_grid, Gamma):\n",
    "\n",
    "    N_histo = N_grid * N_grid\n",
    "    w = np.zeros(N_histo)\n",
    "    w[int(x[0]) + int(x[1]) * N_grid] = u[int(x[0]) + int(x[1]) * N_grid]\n",
    "\n",
    "    T = applyK(w, N_grid, Gamma) * v\n",
    "    M = int(np.round(np.sum((-T).argsort()[:4])/4))\n",
    "    \n",
    "    return (M % N_grid, M // N_grid)"
   ]
  },
  {
   "cell_type": "code",
   "execution_count": 28,
   "id": "c5be72bc-303d-454f-a023-824e36591410",
   "metadata": {},
   "outputs": [],
   "source": [
    "def transport_image(P, q, image_path, L, N_grid, Gamma, output_file='output_image.png'):\n",
    "\n",
    "    W = image_to_chrominance_luminance_array(image_path)\n",
    "    U, V = sinkhorn_algorithm(P, q, L, N_grid, Gamma)\n",
    "\n",
    "    for i in range(len(W)):\n",
    "        if i%25 == 0 and i !=0 :\n",
    "            print(\"25 lines done\")\n",
    "        for j in range(len(W[0])):\n",
    "            W[i, j, 1], W[i, j, 2] = transport_pixel([W[i, j, 1], W[i, j, 2]], U, V, N_grid, Gamma)\n",
    "            W[i, j] *= 4\n",
    "\n",
    "    ycbcr_to_rgb(W, output_file)"
   ]
  },
  {
   "cell_type": "code",
   "execution_count": 29,
   "id": "40a66bfe-fa5c-4c2a-90b3-6846f4d6df88",
   "metadata": {},
   "outputs": [
    {
     "name": "stdout",
     "output_type": "stream",
     "text": [
      "25 lines done\n",
      "25 lines done\n",
      "25 lines done\n"
     ]
    }
   ],
   "source": [
    "transport_image(PA, normalize(qA), \"ALPES_obj_200.jpg\", 16, 64, 8, output_file='ALPES_modified.png')"
   ]
  },
  {
   "cell_type": "code",
   "execution_count": 30,
   "id": "559ef568-aa97-4683-8dab-173efd8e9a0b",
   "metadata": {},
   "outputs": [
    {
     "name": "stdout",
     "output_type": "stream",
     "text": [
      "25 lines done\n",
      "25 lines done\n",
      "25 lines done\n",
      "25 lines done\n",
      "25 lines done\n"
     ]
    }
   ],
   "source": [
    "transport_image(PC, normalize(qC), \"CANYON_obj_200.jpg\", 16, 64, 8, output_file='CANYON_modified.png')"
   ]
  },
  {
   "cell_type": "code",
   "execution_count": 31,
   "id": "3e1f1e3b-8b67-41ce-a525-bfdfa096099f",
   "metadata": {},
   "outputs": [
    {
     "name": "stdout",
     "output_type": "stream",
     "text": [
      "25 lines done\n",
      "25 lines done\n",
      "25 lines done\n",
      "25 lines done\n"
     ]
    }
   ],
   "source": [
    "transport_image(PH, normalize(qH), \"HOGGAR_obj_200.jpg\", 16, 64, 8, output_file='HOGGAR_modified.png')"
   ]
  },
  {
   "cell_type": "code",
   "execution_count": null,
   "id": "36e9b33f-6db9-4e96-8dde-afe001808621",
   "metadata": {},
   "outputs": [],
   "source": []
  }
 ],
 "metadata": {
  "kernelspec": {
   "display_name": "Python 3 (ipykernel)",
   "language": "python",
   "name": "python3"
  },
  "language_info": {
   "codemirror_mode": {
    "name": "ipython",
    "version": 3
   },
   "file_extension": ".py",
   "mimetype": "text/x-python",
   "name": "python",
   "nbconvert_exporter": "python",
   "pygments_lexer": "ipython3",
   "version": "3.12.7"
  }
 },
 "nbformat": 4,
 "nbformat_minor": 5
}
