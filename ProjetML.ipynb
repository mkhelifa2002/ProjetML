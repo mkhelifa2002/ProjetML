{
 "cells": [
  {
   "cell_type": "code",
   "execution_count": 163,
   "id": "8c51f917-00b9-47b2-8fbe-566a9754bc9d",
   "metadata": {},
   "outputs": [],
   "source": [
    "import numpy as np\n",
    "from io import BytesIO"
   ]
  },
  {
   "cell_type": "code",
   "execution_count": 164,
   "id": "fb56f52f-b76d-4d7a-9858-7955bf36faa6",
   "metadata": {},
   "outputs": [],
   "source": [
    "def normalize(p):\n",
    "    return p / np.sum(p)"
   ]
  },
  {
   "cell_type": "code",
   "execution_count": 165,
   "id": "c893be49-8e48-4171-a680-95c07daa1d2a",
   "metadata": {},
   "outputs": [],
   "source": [
    "def sinkhorn_barycenter(Lambda, C, p, Gamma, L):\n",
    "\n",
    "    K = np.exp(- C / Gamma)\n",
    "    S = len(p)\n",
    "    N = len(p[0])\n",
    "    a = np.ones((N, S))\n",
    "    b = np.ones((N, S))\n",
    "\n",
    "    for _ in range(L):\n",
    "        P = np.ones(S)\n",
    "\n",
    "        for k in range(S):\n",
    "            P *= (K.T @ a[:, k]) ** Lambda[k]\n",
    "\n",
    "        for k in range(S):\n",
    "            b[:, k] = P / (K.T @ a[:, k])\n",
    "\n",
    "        for k in range(S):\n",
    "            a[:, k] = p[:, k] / (K @ b[:, k])\n",
    "\n",
    "    return P"
   ]
  },
  {
   "cell_type": "code",
   "execution_count": 166,
   "id": "04663985-9aab-4e10-b3a2-8dc1946f8815",
   "metadata": {},
   "outputs": [],
   "source": [
    "def sinkhorn_differentiate(Lambda, C, p, q, Gamma, L):\n",
    "    \n",
    "    K = np.exp(- C / Gamma)\n",
    "    S = len(p)\n",
    "    N = len(p[0])\n",
    "    Phi = np.ones((L+1, N, S))\n",
    "    b = np.ones((L+1, N, S))\n",
    "    w = np.zeros(S)\n",
    "    r = np.zeros((N, S))\n",
    "    \n",
    "    for i in range(1, L+1):\n",
    "        P = np.ones(S)\n",
    "\n",
    "        for j in range(S):\n",
    "            Phi[i, :, j] = K.T @ (p[:, j] / (K @ b[i-1, :, j]))\n",
    "\n",
    "        for j in range(S):\n",
    "            P *= Phi[i, :, j] ** Lambda[j]\n",
    "\n",
    "        for j in range(S):\n",
    "            b[i, :, j] = P / Phi[i, :, j]\n",
    "\n",
    "    g = (p - q) * P\n",
    "\n",
    "    for i in range(1, L+1):\n",
    "\n",
    "        for j in range(S):\n",
    "            w[j] += np.dot(np.log(Phi[L-i+1, :, j]), g)\n",
    "\n",
    "        for j in range(S):\n",
    "            r[:, j] = - K.T @ ((K @ ((Lambda[j] * g - r[:, j]) / Phi[L-i+1, :, j])) * (p[:, j] / (K @ b[L-i, :, j]) ** 2)) * b[L-i, :, j]\n",
    "\n",
    "        g = np.zeros(N)\n",
    "        for j in range(S):\n",
    "            g += r[:, j]\n",
    "\n",
    "    return P, w"
   ]
  },
  {
   "cell_type": "code",
   "execution_count": 167,
   "id": "cac35c13-93c0-488c-b2ea-da5b6f2e1dd7",
   "metadata": {},
   "outputs": [],
   "source": [
    "def image_to_array(imag):\n",
    "    \"\"\"\n",
    "    Convert a black-and-white image to a 2D array where\n",
    "    0 represents white pixels and 1 represents black pixels.\n",
    "    \n",
    "    Parameters:\n",
    "        image_path (str): The path to the image file.\n",
    "    \n",
    "    Returns:\n",
    "        list: A 2D list of 0s and 1s representing the image.\n",
    "    \"\"\"\n",
    "    # Open the image\n",
    "    img = image_path.convert('L')  # Convert to grayscale\n",
    "    # Convert image to binary (black and white)\n",
    "    threshold = 128  # Define a threshold for binarization\n",
    "    binary_img = img.point(lambda x: 0 if x > threshold else 1, '1')\n",
    "    \n",
    "    # Convert the binary image to a numpy array\n",
    "    array = np.array(binary_img, dtype=int)\n",
    "    \n",
    "    # Return the array as a list of lists\n",
    "    return array"
   ]
  },
  {
   "cell_type": "code",
   "execution_count": 178,
   "id": "1b4d4b42-3c41-4462-84d8-a06c3e2d394d",
   "metadata": {},
   "outputs": [],
   "source": [
    "from PIL import Image\n",
    "img1 = Image.open('Images/ML_SHAPES/1.png')"
   ]
  },
  {
   "cell_type": "code",
   "execution_count": 187,
   "id": "8b8ec982-c9af-44f5-bbc7-05f08a5fb6a3",
   "metadata": {},
   "outputs": [
    {
     "data": {
      "text/plain": [
       "array(<module 'PIL.Image' from '/opt/conda/lib/python3.12/site-packages/PIL/Image.py'>,\n",
       "      dtype=object)"
      ]
     },
     "execution_count": 187,
     "metadata": {},
     "output_type": "execute_result"
    }
   ],
   "source": [
    "np.asarray(img1)"
   ]
  },
  {
   "cell_type": "code",
   "execution_count": 190,
   "id": "9d95b2d3-794f-42bc-8c95-f59eb28ffc27",
   "metadata": {},
   "outputs": [],
   "source": [
    "img1 = Image.open('Images/ML_SHAPES/1.png')\n",
    "img2 = Image.open('Images/ML_SHAPES/2.png')\n",
    "img3 = Image.open('Images/ML_SHAPES/3.png')\n",
    "\n",
    "shape1 = normalize(np.asarray(img1).reshape(-1))\n",
    "shape2 = normalize(np.asarray(img2).reshape(-1))\n",
    "shape3 = normalize(np.asarray(img3).reshape(-1))\n",
    "\n",
    "shapes = np.array([shape1, shape2, shape3])"
   ]
  },
  {
   "cell_type": "code",
   "execution_count": 192,
   "id": "abae2c9e-3b8e-409e-b4c3-e28143ca6d8f",
   "metadata": {},
   "outputs": [
    {
     "ename": "TypeError",
     "evalue": "sinkhorn_differentiate() missing 1 required positional argument: 'L'",
     "output_type": "error",
     "traceback": [
      "\u001b[0;31m---------------------------------------------------------------------------\u001b[0m",
      "\u001b[0;31mTypeError\u001b[0m                                 Traceback (most recent call last)",
      "Cell \u001b[0;32mIn[192], line 1\u001b[0m\n\u001b[0;32m----> 1\u001b[0m \u001b[43msinkhorn_differentiate\u001b[49m\u001b[43m(\u001b[49m\u001b[38;5;241;43m1\u001b[39;49m\u001b[43m,\u001b[49m\u001b[43m \u001b[49m\u001b[38;5;241;43m10\u001b[39;49m\u001b[43m,\u001b[49m\u001b[43m \u001b[49m\u001b[43mshapes\u001b[49m\u001b[43m,\u001b[49m\u001b[43m \u001b[49m\u001b[38;5;241;43m10\u001b[39;49m\u001b[43m,\u001b[49m\u001b[43m \u001b[49m\u001b[38;5;241;43m10\u001b[39;49m\u001b[43m)\u001b[49m\n",
      "\u001b[0;31mTypeError\u001b[0m: sinkhorn_differentiate() missing 1 required positional argument: 'L'"
     ]
    }
   ],
   "source": [
    "sinkhorn_differentiate(1, 10, shapes, 10, 10)"
   ]
  },
  {
   "cell_type": "code",
   "execution_count": null,
   "id": "84a69677-abe7-44d4-b194-7ddeb053a8a4",
   "metadata": {},
   "outputs": [],
   "source": []
  }
 ],
 "metadata": {
  "kernelspec": {
   "display_name": "Python 3 (ipykernel)",
   "language": "python",
   "name": "python3"
  },
  "language_info": {
   "codemirror_mode": {
    "name": "ipython",
    "version": 3
   },
   "file_extension": ".py",
   "mimetype": "text/x-python",
   "name": "python",
   "nbconvert_exporter": "python",
   "pygments_lexer": "ipython3",
   "version": "3.12.7"
  }
 },
 "nbformat": 4,
 "nbformat_minor": 5
}
